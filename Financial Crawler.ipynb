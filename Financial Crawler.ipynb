{
 "cells": [
  {
   "cell_type": "code",
   "execution_count": null,
   "id": "4fe4a671",
   "metadata": {},
   "outputs": [],
   "source": [
    "import requests\n",
    "from bs4 import BeautifulSoup as BS\n",
    "import xlwings as xw\n",
    "\n",
    "wb = xw.Book()\n",
    "sheet = wb.sheets[\"sheet1\"]\n",
    "# 設置大標題\n",
    "sheet.cells(1,1).value = \"Top50投信買超\"\n",
    "sheet.cells(1,7).value = \"Top50投信賣超\"\n",
    "\n",
    "fields = [\"代號\", \"股票\", \"價格\", \"漲跌幅\", \"成交量\", \"買超/賣超\"]\n",
    "\n",
    "# 設置買超的標題\n",
    "for i in range(len(fields)):\n",
    "    sheet.cells(2, i+1).value = fields[i]\n",
    "\n",
    "# 設置賣超的標題\n",
    "for i in range(len(fields)):\n",
    "    sheet.cells(2, i+7).value = fields[i]\n",
    "\n",
    "\n",
    "res = requests.get(\"https://histock.tw/stock/three.aspx?s=b\")\n",
    "soup = BS(res.text, 'html.parser')\n",
    "\n",
    "# 投信買超\n",
    "buy_entries = soup.find(\"div\", {\"class\": \"tb-outline outline1\"}).find_all(\"li\")\n",
    "buy_row = 3\n",
    "for li in buy_entries:\n",
    "    spans = li.find_all(\"span\", {\"class\": \"w58\"})\n",
    "    if spans:\n",
    "        index = 1  \n",
    "        for span in spans:\n",
    "            sheet.cells(buy_row, index).value = span.text.strip()\n",
    "            index += 1  \n",
    "        buy_row += 1\n",
    "\n",
    "# 投信賣超\n",
    "sell_entries = soup.find(\"div\", {\"class\": \"tb-outline outline2\"}).find_all(\"li\")\n",
    "sell_row = 3\n",
    "for li in sell_entries:\n",
    "    spans = li.find_all(\"span\", {\"class\": \"w58\"})\n",
    "    if spans:\n",
    "        index = 7  # 初始化索引，從第7列開始\n",
    "        for span in spans:\n",
    "            sheet.cells(sell_row, index).value = span.text.strip()\n",
    "            index += 1  # 更新索引\n",
    "        sell_row += 1\n",
    "\n",
    "wb.save('投信買賣超數據.xlsx')\n"
   ]
  },
  {
   "cell_type": "code",
   "execution_count": null,
   "id": "38d1e5cc",
   "metadata": {},
   "outputs": [],
   "source": []
  }
 ],
 "metadata": {
  "kernelspec": {
   "display_name": "Python 3 (ipykernel)",
   "language": "python",
   "name": "python3"
  },
  "language_info": {
   "codemirror_mode": {
    "name": "ipython",
    "version": 3
   },
   "file_extension": ".py",
   "mimetype": "text/x-python",
   "name": "python",
   "nbconvert_exporter": "python",
   "pygments_lexer": "ipython3",
   "version": "3.11.5"
  }
 },
 "nbformat": 4,
 "nbformat_minor": 5
}
